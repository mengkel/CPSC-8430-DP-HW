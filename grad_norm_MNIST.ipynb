{
 "cells": [
  {
   "cell_type": "code",
   "execution_count": 15,
   "id": "f852b0dd",
   "metadata": {},
   "outputs": [],
   "source": [
    "import numpy as np\n",
    "import matplotlib.pyplot as plt\n",
    "import torch \n",
    "import torch.nn as nn\n",
    "import torch.nn.functional as F\n",
    "from torch.utils.data import DataLoader"
   ]
  },
  {
   "cell_type": "code",
   "execution_count": 16,
   "id": "050c85b7",
   "metadata": {},
   "outputs": [],
   "source": [
    "#Device configuration\n",
    "device = torch.device('cuda' if torch.cuda.is_available() else 'cpu')\n",
    "#print(device) My laptop uses cpu\n",
    "\n",
    "#Download MNIST dataset in local system\n",
    "from torchvision import datasets\n",
    "from torchvision.transforms import ToTensor\n",
    "\n",
    "train_data = datasets.MNIST(\n",
    "    root = 'data',\n",
    "    train = True,                         \n",
    "    transform = ToTensor(), \n",
    "    download = True,            \n",
    ")\n",
    "\n",
    "test_data = datasets.MNIST(\n",
    "    root = 'data', \n",
    "    train = False, \n",
    "    transform = ToTensor()\n",
    ")\n",
    "\n",
    "loaders = {\n",
    "    'train' :   torch.utils.data.DataLoader(train_data,\n",
    "                                            batch_size = 100,\n",
    "                                            shuffle=True\n",
    "                                           ),\n",
    "    'test'  :   torch.utils.data.DataLoader(test_data,\n",
    "                                            batch_size = 100,\n",
    "                                            shuffle=True\n",
    "                                            )\n",
    "}"
   ]
  },
  {
   "cell_type": "code",
   "execution_count": 17,
   "id": "4bbb821d",
   "metadata": {},
   "outputs": [],
   "source": [
    "class CNN(nn.Module):\n",
    "    def __init__(self):\n",
    "        super(CNN, self).__init__()\n",
    "\n",
    "        self.conv1 = nn.Sequential(\n",
    "            nn.Conv2d(\n",
    "                in_channels=1,\n",
    "                out_channels=16,\n",
    "                kernel_size=5,\n",
    "                stride=1,\n",
    "                padding=2,\n",
    "            ),\n",
    "            nn.ReLU(),\n",
    "            nn.MaxPool2d(kernel_size=2),\n",
    "        )\n",
    "\n",
    "        self.conv2 = nn.Sequential(\n",
    "            nn.Conv2d(16, 32, 5, 1, 2),\n",
    "            nn.ReLU(),\n",
    "            nn.MaxPool2d(2)\n",
    "        )\n",
    "        # fully connected layer, output 10 classes\n",
    "        self.out = nn.Linear(32 * 7 * 7, 10)\n",
    "\n",
    "    def forward(self, x):\n",
    "        x = self.conv1(x)\n",
    "        x = self.conv2(x)\n",
    "\n",
    "        # flatten the output of conv2 to (batch_size, 32 * 7 * 7)\n",
    "        x = x.view(x.size(0), -1)\n",
    "        output = self.out(x)\n",
    "        return output, x   # return x for visualization\n",
    "cnn = CNN()"
   ]
  },
  {
   "cell_type": "code",
   "execution_count": 18,
   "id": "0a5791db",
   "metadata": {},
   "outputs": [],
   "source": [
    "class CNN1(nn.Module):\n",
    "    def __init__(self):\n",
    "        super(CNN1, self).__init__()\n",
    "\n",
    "        self.conv1 = nn.Sequential(\n",
    "            nn.Conv2d(\n",
    "                in_channels=1,\n",
    "                out_channels=20,\n",
    "                kernel_size=5,\n",
    "                stride=1,\n",
    "                padding=2,\n",
    "            ),\n",
    "            nn.ReLU(),\n",
    "            nn.MaxPool2d(kernel_size=2),\n",
    "        )\n",
    "\n",
    "        self.conv2 = nn.Sequential(\n",
    "            nn.Conv2d(20, 40, 5, 1, 2),\n",
    "            nn.ReLU(),\n",
    "            nn.MaxPool2d(2)\n",
    "        )\n",
    "        # fully connected layer, output 10 classes\n",
    "        self.out = nn.Linear(40 * 7 * 7, 10)\n",
    "\n",
    "    def forward(self, x):\n",
    "        x = self.conv1(x)\n",
    "        x = self.conv2(x)\n",
    "\n",
    "        # flatten the output of conv2 to (batch_size, 32 * 7 * 7)\n",
    "        x = x.view(x.size(0), -1)\n",
    "        output = self.out(x)\n",
    "        return output, x   # return x for visualization\n",
    "\n",
    "cnn1 = CNN1()"
   ]
  },
  {
   "cell_type": "code",
   "execution_count": 19,
   "id": "4c5989bd",
   "metadata": {},
   "outputs": [],
   "source": [
    "from torch.autograd import Variable"
   ]
  },
  {
   "cell_type": "code",
   "execution_count": 20,
   "id": "08bb6830",
   "metadata": {},
   "outputs": [],
   "source": [
    "def train(num_epochs, model, loaders, optimizer):\n",
    "    max_epoch = num_epochs  \n",
    "    Train_loss = 0\n",
    "    model.train()\n",
    "    loss_func = nn.CrossEntropyLoss()  \n",
    "    total_step = len(loaders['train'])\n",
    "    epoch_arr, loss_arr = [], []\n",
    "    not_converged = True\n",
    "    epoch = 0\n",
    "    grad_arr = []\n",
    "    while not_converged:\n",
    "        epoch +=1\n",
    "        for i, (images, labels) in enumerate(loaders['train']):\n",
    "            # gives batch data, normalize x when iterate train_loader\n",
    "            b_x = Variable(images)\n",
    "            b_y = Variable(labels)\n",
    "            # or use data, target = Variable(images), Variable(labels)\n",
    "            output = model(b_x)[0]\n",
    "            loss = loss_func(output, b_y)\n",
    "\n",
    "            # clear gradients for this training step\n",
    "            optimizer.zero_grad()\n",
    "\n",
    "            # backpropagation, compute gradients\n",
    "            loss.backward()\n",
    "\n",
    "            #apply gradients\n",
    "            optimizer.step()\n",
    "        \n",
    "            Train_loss += loss.item() \n",
    "            \n",
    "        epoch_arr.append(epoch)\n",
    "        Train_loss /= len(loaders['train'])\n",
    "        loss_arr.append(Train_loss)\n",
    "        grad_all = 0.0\n",
    "        for p in model.parameters():\n",
    "            grad = 0.0\n",
    "            if p.grad is not None:\n",
    "                grad = (p.grad.cpu().data.numpy()**2).sum()\n",
    "            grad_all += grad\n",
    "        grad_norm = grad_all ** 0.5\n",
    "        grad_arr.append(grad_norm)\n",
    "        \n",
    "        if epoch % 1 == 0:\n",
    "            print(f'epoch : {epoch}, loss = {Train_loss:.4f}')\n",
    "            \n",
    "        if epoch == max_epoch:\n",
    "            print(\"Max Epoch Reached\")\n",
    "            not_converged = False\n",
    "\n",
    "        elif (epoch > 5) and  (loss_arr[-1] < 0.001):\n",
    "            if abs(loss_arr[-3] - loss_arr[-2]) < 1.0e-05 and abs(loss_arr[-2] - loss_arr[-1]) < 1.0e-05:\n",
    "                print(\"Convergence reached for loss:\",loss_arr[-1])\n",
    "                not_converged = False\n",
    "    return epoch_arr, loss_arr, grad_arr\n",
    "                "
   ]
  },
  {
   "cell_type": "code",
   "execution_count": 21,
   "id": "2b285935",
   "metadata": {},
   "outputs": [],
   "source": [
    "def test(model):\n",
    "    model.eval()\n",
    "    loss_fn = torch.nn.CrossEntropyLoss()\n",
    "    test_loss = 0\n",
    "    n_correct = 0\n",
    "    n_samples = 0\n",
    "    with torch.no_grad():\n",
    "        for images, labels in loaders['test']:\n",
    "            test_output, last_layer = model(images)\n",
    "            test_loss += loss_fn(test_output, labels).data\n",
    "            pred_y = torch.max(test_output, 1)[1].data.squeeze()\n",
    "            n_samples += labels.size(0)\n",
    "            n_correct += (pred_y == labels).sum().item()\n",
    "            accuracy= 100.0 * n_correct / n_samples\n",
    "#            accuracy = (pred_y == labels).sum().item() / float(labels.size(0))\n",
    "    test_loss /= len(loaders['test'])\n",
    "    print(accuracy)\n",
    "#    print(len(loaders['test']))\n",
    "#            print('Test Accuracy of the model on the 10000 test image: %.2f' % accuracy)\n",
    "#    print(accuracy, (pred_y == labels).sum().item(), float(labels.size(0)))\n",
    "    return accuracy"
   ]
  },
  {
   "cell_type": "code",
   "execution_count": 22,
   "id": "a2a9246d",
   "metadata": {},
   "outputs": [
    {
     "name": "stdout",
     "output_type": "stream",
     "text": [
      "epoch : 1, loss = 0.2430\n",
      "epoch : 2, loss = 0.0667\n",
      "epoch : 3, loss = 0.0477\n",
      "epoch : 4, loss = 0.0382\n",
      "epoch : 5, loss = 0.0322\n",
      "epoch : 6, loss = 0.0268\n",
      "epoch : 7, loss = 0.0232\n",
      "epoch : 8, loss = 0.0195\n",
      "epoch : 9, loss = 0.0170\n",
      "epoch : 10, loss = 0.0147\n",
      "epoch : 11, loss = 0.0139\n",
      "epoch : 12, loss = 0.0108\n",
      "epoch : 13, loss = 0.0102\n",
      "epoch : 14, loss = 0.0077\n",
      "epoch : 15, loss = 0.0076\n",
      "epoch : 16, loss = 0.0067\n",
      "epoch : 17, loss = 0.0076\n",
      "epoch : 18, loss = 0.0054\n",
      "epoch : 19, loss = 0.0042\n",
      "epoch : 20, loss = 0.0043\n",
      "epoch : 21, loss = 0.0042\n",
      "epoch : 22, loss = 0.0039\n",
      "epoch : 23, loss = 0.0036\n",
      "epoch : 24, loss = 0.0050\n",
      "epoch : 25, loss = 0.0026\n",
      "epoch : 26, loss = 0.0037\n",
      "epoch : 27, loss = 0.0024\n",
      "epoch : 28, loss = 0.0013\n",
      "epoch : 29, loss = 0.0036\n",
      "epoch : 30, loss = 0.0051\n",
      "epoch : 31, loss = 0.0021\n",
      "epoch : 32, loss = 0.0005\n",
      "epoch : 33, loss = 0.0001\n",
      "epoch : 34, loss = 0.0000\n",
      "epoch : 35, loss = 0.0000\n",
      "epoch : 36, loss = 0.0000\n",
      "epoch : 37, loss = 0.0085\n",
      "epoch : 38, loss = 0.0049\n",
      "epoch : 39, loss = 0.0012\n",
      "epoch : 40, loss = 0.0014\n",
      "epoch : 41, loss = 0.0003\n",
      "epoch : 42, loss = 0.0014\n",
      "epoch : 43, loss = 0.0049\n",
      "epoch : 44, loss = 0.0032\n",
      "epoch : 45, loss = 0.0015\n",
      "epoch : 46, loss = 0.0008\n",
      "epoch : 47, loss = 0.0005\n",
      "epoch : 48, loss = 0.0045\n",
      "epoch : 49, loss = 0.0022\n",
      "epoch : 50, loss = 0.0020\n",
      "Max Epoch Reached\n"
     ]
    }
   ],
   "source": [
    "num_epochs = 50\n",
    "\n",
    "optimizer = torch.optim.Adam(cnn.parameters(), lr = 0.001)\n",
    "Epoch, Loss, Grad = train(num_epochs, cnn, loaders, optimizer)\n",
    "\n",
    "# optimizer = torch.optim.Adam(cnn1.parameters(), lr = 0.01)\n",
    "# loss_acc1 = train(num_epochs, cnn1, loaders, optimizer)\n",
    "# L1 = np.array(loss_acc1)"
   ]
  },
  {
   "cell_type": "code",
   "execution_count": 23,
   "id": "ff2e914d",
   "metadata": {},
   "outputs": [
    {
     "data": {
      "image/png": "[encoded data removed]",
      "text/plain": [
       "<Figure size 720x288 with 1 Axes>"
      ]
     },
     "metadata": {
      "needs_background": "light"
     },
     "output_type": "display_data"
    }
   ],
   "source": [
    "fig = plt.figure(figsize=(10,4))\n",
    "plt.plot(Epoch, Loss)\n",
    "plt.title('Loss During Training')\n",
    "plt.xlabel(\"Epoch\")\n",
    "plt.ylabel(\"Loss\")\n",
    "plt.show()"
   ]
  },
  {
   "cell_type": "code",
   "execution_count": 24,
   "id": "f69ee090",
   "metadata": {},
   "outputs": [
    {
     "data": {
      "image/png": "[encoded data removed]",
      "text/plain": [
       "<Figure size 720x288 with 1 Axes>"
      ]
     },
     "metadata": {
      "needs_background": "light"
     },
     "output_type": "display_data"
    }
   ],
   "source": [
    "fig = plt.figure(figsize=(10,4))\n",
    "plt.plot(Epoch, Grad)\n",
    "plt.title('Gradient Norm During Training')\n",
    "plt.xlabel(\"Epoch\")\n",
    "plt.ylabel(\"Gradient Norm\")\n",
    "plt.show()"
   ]
  },
  {
   "cell_type": "code",
   "execution_count": null,
   "id": "911a7201",
   "metadata": {},
   "outputs": [],
   "source": []
  }
 ],
 "metadata": {
  "kernelspec": {
   "display_name": "Python 3",
   "language": "python",
   "name": "python3"
  },
  "language_info": {
   "codemirror_mode": {
    "name": "ipython",
    "version": 3
   },
   "file_extension": ".py",
   "mimetype": "text/x-python",
   "name": "python",
   "nbconvert_exporter": "python",
   "pygments_lexer": "ipython3",
   "version": "3.9.16"
  },
  "vscode": {
   "interpreter": {
    "hash": "7a792fcb311f9eb9f3c1b942a8c87ada8484712b89b670347c16a1088e0a1f69"
   }
  }
 },
 "nbformat": 4,
 "nbformat_minor": 5
}
