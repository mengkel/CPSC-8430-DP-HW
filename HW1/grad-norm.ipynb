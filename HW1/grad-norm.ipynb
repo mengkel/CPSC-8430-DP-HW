{
 "cells": [
  {
   "cell_type": "code",
   "execution_count": 2,
   "metadata": {},
   "outputs": [],
   "source": [
    "import numpy as np\n",
    "import matplotlib.pyplot as plt\n",
    "\n",
    "X = np.linspace(0.1, 1, 100)\n",
    "num = np.sin(5*np.pi*X)\n",
    "y = num/(5*np.pi*X)\n",
    "Y = y"
   ]
  },
  {
   "cell_type": "code",
   "execution_count": 3,
   "metadata": {},
   "outputs": [
    {
     "data": {
      "image/png": "[encoded data removed]",
      "text/plain": [
       "<Figure size 432x288 with 1 Axes>"
      ]
     },
     "metadata": {
      "needs_background": "light"
     },
     "output_type": "display_data"
    }
   ],
   "source": [
    "plt.plot(X,Y)\n",
    "plt.xlabel(r'$5\\pi x$')\n",
    "plt.ylabel(r'$sin(5\\pi x)$')\n",
    "plt.show()"
   ]
  },
  {
   "cell_type": "code",
   "execution_count": 4,
   "metadata": {},
   "outputs": [],
   "source": [
    "import torch \n",
    "import torch.nn as nn\n",
    "import torch.nn.functional as F\n",
    "\n",
    "X_t = torch.tensor(X, dtype = torch.float32)\n",
    "y_t = torch.tensor(Y, dtype = torch.float32)\n",
    "X_t = X_t.view(X_t.shape[0], 1)\n",
    "y_t = y_t.view(y_t.shape[0], 1)"
   ]
  },
  {
   "cell_type": "code",
   "execution_count": 5,
   "metadata": {},
   "outputs": [],
   "source": [
    "class func_simulator1(nn.Module):\n",
    "    def __init__(self):\n",
    "        super(func_simulator1, self).__init__()\n",
    "        self.l1 = nn.Linear(1, 5)\n",
    "        self.l2 = nn.Linear(5, 30)\n",
    "        self.l3 = nn.Linear(30, 50)\n",
    "        self.l4 = nn.Linear(50, 30)\n",
    "        self.l5 = nn.Linear(30, 10)\n",
    "        self.l6 = nn.Linear(10, 5)\n",
    "        self.l7 = nn.Linear(5, 1)\n",
    "\n",
    "\n",
    "    def forward(self, x):\n",
    "        out = F.tanh(self.l1(x))\n",
    "        out = F.tanh(self.l2(out))\n",
    "        out = F.tanh(self.l3(out))\n",
    "        out = F.tanh(self.l4(out))\n",
    "        out = F.tanh(self.l5(out))\n",
    "        out = F.tanh(self.l6(out))\n",
    "        out = F.tanh(self.l7(out)) \n",
    "        return out\n",
    "\n",
    "class func_simulator2(nn.Module):\n",
    "    def __init__(self):\n",
    "        super(func_simulator2, self).__init__()\n",
    "        self.l1 = nn.Linear(1, 10)\n",
    "        self.l2 = nn.Linear(10, 30)\n",
    "        self.l3 = nn.Linear(30, 10)\n",
    "        self.l4 = nn.Linear(10, 1)\n",
    "\n",
    "    def forward(self, x):\n",
    "        out = F.tanh(self.l1(x))\n",
    "        out = F.tanh(self.l2(out))\n",
    "        out = F.tanh(self.l3(out))\n",
    "        out = F.tanh(self.l4(out))\n",
    "        return out\n",
    "\n",
    "class func_simulator3(nn.Module):\n",
    "    def __init__(self):\n",
    "        super(func_simulator3, self).__init__()\n",
    "        self.l1 = nn.Linear(1, 128)\n",
    "        self.l2 = nn.Linear(128, 1)\n",
    "        # self.l3 = nn.Linear(128, 30)\n",
    "        # self.l4 = nn.Linear(30, 10)\n",
    "        # self.l5 = nn.Linear(10, 1)\n",
    "\n",
    "    def forward(self, x):\n",
    "        out = F.tanh(self.l1(x))\n",
    "        out = F.tanh(self.l2(out))\n",
    "        # out = F.tanh(self.l3(out))\n",
    "        # out = F.tanh(self.l4(out))\n",
    "        # out = F.tanh(self.l5(out))\n",
    "        return out\n",
    "    \n",
    "class func_simulator4(nn.Module):\n",
    "    def __init__(self,):\n",
    "        super(func_simulator4, self).__init__()\n",
    "        self.linear1 = nn.Linear(1, 5)\n",
    "        self.linear2 = nn.Linear(5, 10)\n",
    "        self.linear3 = nn.Linear(10, 10)\n",
    "        self.linear4 = nn.Linear(10, 10)\n",
    "        self.linear5 = nn.Linear(10, 10)\n",
    "        self.linear6 = nn.Linear(10, 10)\n",
    "        self.linear7 = nn.Linear(10, 5)\n",
    "        self.predict = nn.Linear(5, 1)\n",
    "    \n",
    "    def forward(self,x):\n",
    "        x = nn.functional.leaky_relu(self.linear1(x))\n",
    "        x = nn.functional.leaky_relu(self.linear2(x))\n",
    "        x = nn.functional.leaky_relu(self.linear3(x))\n",
    "        x = nn.functional.leaky_relu(self.linear4(x))\n",
    "        x = nn.functional.leaky_relu(self.linear5(x))\n",
    "        x = nn.functional.leaky_relu(self.linear6(x))\n",
    "        x = nn.functional.leaky_relu(self.linear7(x))\n",
    "\n",
    "        x = self.predict(x)\n",
    "        return x"
   ]
  },
  {
   "cell_type": "code",
   "execution_count": 6,
   "metadata": {},
   "outputs": [],
   "source": [
    "# train on batch\n",
    "def train_model_old(model, learning_rate, num_epochs):\n",
    "    losses = []\n",
    "    gradient                = torch.optim.SGD(model.parameters(),lr=learning_rate)\n",
    "    grad_array = []\n",
    "    for epoch in range(num_epochs):\n",
    "        y_pred = model.forward(X_t)\n",
    "        l = loss(y_pred,y_t)\n",
    "        \n",
    "        if(epoch+1)%1000==0:\n",
    "#            print(f'epoch:{epoch+1},loss={l.item():.2e}')\n",
    "            losses.append((epoch+1, l.item()))\n",
    "        l.backward()\n",
    "        # if epoch >= 35000:\n",
    "        #     lr = 0.5*learning_rate\n",
    "        gradient.step()\n",
    "        gradient.zero_grad()\n",
    "        \n",
    "    y_bar = model(X_t).detach().numpy()\n",
    "    return y_bar, np.array(losses)\n"
   ]
  },
  {
   "cell_type": "code",
   "execution_count": 7,
   "metadata": {},
   "outputs": [],
   "source": [
    "def train_model(model, X_t, y_t, Me):\n",
    "    max_epoch = Me\n",
    "    epoch_arr, loss_arr = [], []\n",
    "    not_converged = True\n",
    "    epoch = 0\n",
    "    grad_arr = []\n",
    "#    gradient                = torch.optim.SGD(model.parameters(),lr=learning_rate)\n",
    "    optimizer = torch.optim.Adam(model.parameters(), lr = 1e-3, weight_decay = 1e-4)\n",
    "    while not_converged:\n",
    "        epoch +=1\n",
    "        y_pred = model.forward(X_t)\n",
    "        l = loss(y_pred, y_t)\n",
    "        optimizer.zero_grad()\n",
    "        l.backward()\n",
    "        optimizer.step()  \n",
    "        epoch_arr.append(epoch)\n",
    "        loss_arr.append(l.item())\n",
    "        \n",
    "        grad_all = 0.0\n",
    "        for param in model.parameters():\n",
    "            grad = 0.0\n",
    "            if param.grad is not None:\n",
    "                grad = (param.grad.cpu().data.numpy()**2).sum()\n",
    "                grad_all += grad\n",
    "                \n",
    "        grad_norm = grad_all ** 0.5\n",
    "        \n",
    "        grad_arr.append(grad_norm)\n",
    "        \n",
    "        if epoch % 100 == 0:\n",
    "            print(f'epoch: {epoch}, loss = {l.item():.3f}')\n",
    "            print(f'gradient: {grad_norm:.4f}')\n",
    "        if epoch == max_epoch:\n",
    "            print('Max Epoch Reached')\n",
    "            not_converged = False\n",
    "            \n",
    "        elif (epoch > 5) and (loss_arr[-1] > 0.001):\n",
    "            if abs(loss_arr[-3] - loss_arr[-2]) < 1.0e-10 and abs(loss_arr[-2] - loss_arr[-1]) < 1.0e-10:\n",
    "                print(\"Convergence reached for loss:\", loss_arr[-1])\n",
    "                not_converged = False\n",
    "    return epoch_arr, loss_arr, y_pred, grad_arr\n",
    "                     "
   ]
  },
  {
   "cell_type": "code",
   "execution_count": 8,
   "metadata": {},
   "outputs": [],
   "source": [
    "learning_rate,num_epochs    = 0.01,5000\n",
    "model1                      = func_simulator1()\n",
    "model2                      = func_simulator2()\n",
    "model3                      = func_simulator3()\n",
    "model4                      = func_simulator4()\n",
    "loss                        = nn.MSELoss()"
   ]
  },
  {
   "cell_type": "code",
   "execution_count": 9,
   "metadata": {},
   "outputs": [],
   "source": [
    "model = model1\n",
    "Me = 1000"
   ]
  },
  {
   "cell_type": "code",
   "execution_count": 10,
   "metadata": {},
   "outputs": [
    {
     "name": "stdout",
     "output_type": "stream",
     "text": [
      "Total_params for model 1 :  3641\n"
     ]
    }
   ],
   "source": [
    "Total_params = sum(p.numel() for p in model.parameters()) \n",
    "print('Total_params for model 1 : ', Total_params)"
   ]
  },
  {
   "cell_type": "code",
   "execution_count": 11,
   "metadata": {},
   "outputs": [
    {
     "name": "stderr",
     "output_type": "stream",
     "text": [
      "/Users/mengkel/Library/Python/3.9/lib/python/site-packages/torch/nn/functional.py:1956: UserWarning: nn.functional.tanh is deprecated. Use torch.tanh instead.\n",
      "  warnings.warn(\"nn.functional.tanh is deprecated. Use torch.tanh instead.\")\n"
     ]
    },
    {
     "name": "stdout",
     "output_type": "stream",
     "text": [
      "epoch: 100, loss = 0.023\n",
      "gradient: 0.0090\n",
      "epoch: 200, loss = 0.019\n",
      "gradient: 0.0112\n",
      "epoch: 300, loss = 0.006\n",
      "gradient: 0.0159\n",
      "epoch: 400, loss = 0.004\n",
      "gradient: 0.0040\n",
      "epoch: 500, loss = 0.004\n",
      "gradient: 0.0040\n",
      "epoch: 600, loss = 0.003\n",
      "gradient: 0.0034\n",
      "epoch: 700, loss = 0.003\n",
      "gradient: 0.0030\n",
      "epoch: 800, loss = 0.003\n",
      "gradient: 0.0027\n",
      "epoch: 900, loss = 0.003\n",
      "gradient: 0.0025\n",
      "epoch: 1000, loss = 0.003\n",
      "gradient: 0.0024\n",
      "Max Epoch Reached\n",
      "epoch: 100, loss = 0.024\n",
      "gradient: 0.0121\n",
      "epoch: 200, loss = 0.024\n",
      "gradient: 0.0006\n",
      "epoch: 300, loss = 0.024\n",
      "gradient: 0.0005\n",
      "epoch: 400, loss = 0.024\n",
      "gradient: 0.0005\n",
      "epoch: 500, loss = 0.024\n",
      "gradient: 0.0005\n",
      "epoch: 600, loss = 0.024\n",
      "gradient: 0.0010\n",
      "epoch: 700, loss = 0.023\n",
      "gradient: 0.0051\n",
      "epoch: 800, loss = 0.018\n",
      "gradient: 0.0165\n",
      "epoch: 900, loss = 0.007\n",
      "gradient: 0.0092\n",
      "epoch: 1000, loss = 0.006\n",
      "gradient: 0.0009\n",
      "Max Epoch Reached\n"
     ]
    }
   ],
   "source": [
    "# Y1, L1 = train_model(model1, learning_rate, num_epochs)\n",
    "# Y2, L2 = train_model(model2, 0.1, num_epochs) \n",
    "# Y3, L3 = train_model(model3, learning_rate, num_epochs) \n",
    "Epoch_arr, Loss_arr, Prediction, Grad_arr = train_model(model, X_t, y_t, Me)\n",
    "Epoch_arr1, Loss_arr1, Prediction1, Grad_arr1 = train_model(model4, X_t, y_t, Me)"
   ]
  },
  {
   "cell_type": "code",
   "execution_count": 12,
   "metadata": {},
   "outputs": [
    {
     "data": {
      "image/png": "[encoded data removed]",
      "text/plain": [
       "<Figure size 1440x288 with 2 Axes>"
      ]
     },
     "metadata": {
      "needs_background": "light"
     },
     "output_type": "display_data"
    }
   ],
   "source": [
    "fig = plt.figure(figsize=(20,4))\n",
    "plt.subplot(1,2,1)\n",
    "plt.plot(Epoch_arr, Loss_arr, label = 'model1')\n",
    "plt.title('Loss During Training')\n",
    "plt.xlabel(\"Epoch\")\n",
    "plt.ylabel(\"Loss\")\n",
    "plt.legend()\n",
    "\n",
    "plt.subplot(1,2,2)\n",
    "plt.plot(Epoch_arr1, Loss_arr1, label = 'model2')\n",
    "plt.title('Loss During Training')\n",
    "plt.xlabel(\"Epoch\")\n",
    "plt.ylabel(\"Loss\")\n",
    "plt.legend()\n",
    "plt.show()"
   ]
  },
  {
   "cell_type": "code",
   "execution_count": 13,
   "metadata": {
    "scrolled": true
   },
   "outputs": [
    {
     "data": {
      "image/png": "[encoded data removed]",
      "text/plain": [
       "<Figure size 1440x288 with 2 Axes>"
      ]
     },
     "metadata": {
      "needs_background": "light"
     },
     "output_type": "display_data"
    }
   ],
   "source": [
    "fig = plt.figure(figsize=(20,4))\n",
    "plt.subplot(1,2,1)\n",
    "plt.plot(Epoch_arr, Grad_arr, label = 'model1', color = '#ff7f0e')\n",
    "plt.title('Gradient Norm - Training')\n",
    "plt.xlabel(\"Epoch\")\n",
    "plt.ylabel(\"Gradient Norm\")\n",
    "plt.legend()\n",
    "\n",
    "plt.subplot(1,2,2)\n",
    "plt.plot(Epoch_arr1, Grad_arr1, label = 'model2', color = '#ff7f0e')\n",
    "plt.title('Gradient Norm - Training')\n",
    "plt.xlabel(\"Epoch\")\n",
    "plt.ylabel(\"Gradient Norm\")\n",
    "plt.legend()\n",
    "plt.show()"
   ]
  },
  {
   "cell_type": "code",
   "execution_count": null,
   "metadata": {},
   "outputs": [],
   "source": []
  }
 ],
 "metadata": {
  "kernelspec": {
   "display_name": "Python 3",
   "language": "python",
   "name": "python3"
  },
  "language_info": {
   "codemirror_mode": {
    "name": "ipython",
    "version": 3
   },
   "file_extension": ".py",
   "mimetype": "text/x-python",
   "name": "python",
   "nbconvert_exporter": "python",
   "pygments_lexer": "ipython3",
   "version": "3.9.16"
  },
  "vscode": {
   "interpreter": {
    "hash": "7a792fcb311f9eb9f3c1b942a8c87ada8484712b89b670347c16a1088e0a1f69"
   }
  }
 },
 "nbformat": 4,
 "nbformat_minor": 2
}
