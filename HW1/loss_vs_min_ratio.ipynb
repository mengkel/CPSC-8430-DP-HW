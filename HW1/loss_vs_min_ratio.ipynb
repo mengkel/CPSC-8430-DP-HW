{
 "cells": [
  {
   "cell_type": "code",
   "execution_count": 8,
   "metadata": {},
   "outputs": [
    {
     "data": {
      "image/png": "[encoded data removed]",
      "text/plain": [
       "<Figure size 432x288 with 1 Axes>"
      ]
     },
     "metadata": {
      "needs_background": "light"
     },
     "output_type": "display_data"
    }
   ],
   "source": [
    "import numpy as np\n",
    "import matplotlib.pyplot as plt\n",
    "\n",
    "X = np.linspace(0.1, 1, 100)\n",
    "num = np.sin(5*np.pi*X)\n",
    "#den = \n",
    "y = num/(5*np.pi*X)\n",
    "Y = y\n",
    "plt.plot(X,Y)\n",
    "plt.ylabel(r'$sin(5\\pi x)$')\n",
    "plt.xlabel(r'$5\\pi x$')\n",
    "plt.show()"
   ]
  },
  {
   "cell_type": "code",
   "execution_count": 2,
   "metadata": {},
   "outputs": [],
   "source": [
    "import torch \n",
    "import torch.nn as nn\n",
    "import torch.nn.functional as F\n",
    "from functorch import hessian\n",
    "\n",
    "X_t = torch.tensor(X, dtype = torch.float32)\n",
    "y_t = torch.tensor(Y, dtype = torch.float32)\n",
    "X_t = X_t.view(X_t.shape[0], 1)\n",
    "y_t = y_t.view(y_t.shape[0], 1)"
   ]
  },
  {
   "cell_type": "code",
   "execution_count": 3,
   "metadata": {},
   "outputs": [],
   "source": [
    "class func_simulator(nn.Module):\n",
    "    def __init__(self):\n",
    "        super(func_simulator, self).__init__()\n",
    "        self.l1 = nn.Linear(1, 10)\n",
    "        self.l2 = nn.Linear(10, 30)\n",
    "        self.l3 = nn.Linear(30, 10)\n",
    "        self.l4 = nn.Linear(10, 1)\n",
    "\n",
    "    def forward(self, x):\n",
    "        out = F.tanh(self.l1(x))\n",
    "        out = F.tanh(self.l2(out))\n",
    "        out = F.tanh(self.l3(out))\n",
    "        out = F.tanh(self.l4(out))\n",
    "        return out"
   ]
  },
  {
   "cell_type": "code",
   "execution_count": 4,
   "metadata": {},
   "outputs": [],
   "source": [
    "learning_rate,num_epochs    = 0.1,50000\n",
    "model1                      = func_simulator()\n",
    "loss                        = nn.MSELoss()"
   ]
  },
  {
   "cell_type": "code",
   "execution_count": 5,
   "metadata": {},
   "outputs": [],
   "source": [
    "# train on batch\n",
    "def train_model(model, learning_rate, num_epochs):\n",
    "    losses = []\n",
    "    gradient                = torch.optim.SGD(model.parameters(),lr=learning_rate)\n",
    "    for epoch in range(num_epochs):\n",
    "        y_pred = model.forward(X_t)\n",
    "        l = loss(y_pred,y_t)\n",
    "        gradient.zero_grad() \n",
    "        #if(epoch+1)%1000==0:\n",
    "#            print(f'epoch:{epoch+1},loss={l.item():.2e}')\n",
    "        losses.append(l.detach().cpu.nympy())\n",
    "        l.backward()\n",
    "        # if epoch >= 35000:\n",
    "        #     lr = 0.5*learning_rate\n",
    "        gradient.step()\n",
    "    return np.mean(losses)"
   ]
  },
  {
   "cell_type": "code",
   "execution_count": 9,
   "metadata": {},
   "outputs": [],
   "source": [
    "from autograd_lib import autograd_lib\n",
    "model = func_simulator()\n",
    "autograd_lib.register(model)"
   ]
  },
  {
   "cell_type": "code",
   "execution_count": null,
   "metadata": {},
   "outputs": [],
   "source": [
    "def calculate_grad_norm(model, criterion, train, target):\n",
    "    model.train()\n",
    "    model.zero_grad()\n",
    "    output = model(train)\n",
    "    loss = criterion(output, target)\n",
    "    loss.backward()\n",
    "\n",
    "    grads = []\n",
    "    for p in model.modules():\n",
    "        if isinstance(p, nn.Linear):\n",
    "            param_norm = p.weight.grad.norm(2).item()\n",
    "            grads.append(param_norm)\n",
    "\n",
    "    grad_mean = np.mean(grads) # compute mean of gradient norms\n",
    "    return grad_mean,loss"
   ]
  },
  {
   "cell_type": "code",
   "execution_count": null,
   "metadata": {},
   "outputs": [],
   "source": [
    "# helper function to save activations\n",
    "def save_activations(layer, A, _):\n",
    "\n",
    "    activations[layer] = A\n",
    "\n",
    "# helper function to compute Hessian matrix\n",
    "def compute_hess(layer, _, B):\n",
    "\n",
    "    A = activations[layer]\n",
    "    BA = torch.einsum('nl,ni->nli', B, A) # do batch-wise outer product\n",
    "\n",
    "    # full Hessian\n",
    "    hess[layer] += torch.einsum('nli,nkj->likj', BA, BA) # do batch-wise outer product, then sum over the batch"
   ]
  },
  {
   "cell_type": "code",
   "execution_count": null,
   "metadata": {},
   "outputs": [],
   "source": [
    "def compute_minimum_ratio(model, criterion, train, target):\n",
    "    model.zero_grad()\n",
    "    # compute Hessian matrix\n",
    "    # save the gradient of each layer\n",
    "    with autograd_lib.module_hook(save_activations):\n",
    "        output = model(train)\n",
    "        loss = criterion(output, target)\n",
    "\n",
    "    # compute Hessian according to the gradient value stored in the previous step\n",
    "    with autograd_lib.module_hook(compute_hess):\n",
    "        autograd_lib.backward_hessian(output, loss='LeastSquares')\n",
    "\n",
    "    layer_hess = list(hess.values())\n",
    "    minimum_ratio = []\n",
    "\n",
    "    # compute eigenvalues of the Hessian matrix\n",
    "    for h in layer_hess:\n",
    "        size = h.shape[0] * h.shape[1]\n",
    "        h = h.reshape(size, size)\n",
    "        h_eig = torch.symeig(h).eigenvalues # torch.symeig() returns eigenvalues and eigenvectors of a real symmetric matrix\n",
    "        num_greater = torch.sum(h_eig > 0).item()\n",
    "        minimum_ratio.append(num_greater / len(h_eig))\n",
    "\n",
    "    ratio_mean = np.mean(minimum_ratio) # compute mean of minimum ratio\n",
    "\n",
    "    return ratio_mean"
   ]
  },
  {
   "cell_type": "code",
   "execution_count": 6,
   "metadata": {},
   "outputs": [
    {
     "name": "stdout",
     "output_type": "stream",
     "text": [
      "[0.18249382 0.18126774 0.18004881 0.17883702 0.17763235 0.17643479\n",
      " 0.17524435 0.174061   0.17288476 0.17171562 0.17055354 0.16939852\n",
      " 0.16825058 0.16710968 0.16597582 0.16484898 0.16372913 0.16261633\n",
      " 0.16151048 0.16041163 0.15931973 0.15823479 0.15715677 0.15608566\n",
      " 0.15502146 0.15396413 0.15291367 0.15187009 0.15083332 0.14980339\n",
      " 0.14878024 0.14776386 0.14675426 0.14575139 0.14475524 0.14376578\n",
      " 0.14278302 0.14180689 0.14083742 0.13987455 0.1389183  0.1379686\n",
      " 0.13702546 0.13608883 0.13515873 0.13423511 0.13331793 0.13240719\n",
      " 0.13150285 0.13060492 0.12971334 0.12882809 0.12794916 0.12707649\n",
      " 0.12621011 0.12534995 0.12449602 0.12364824 0.12280662 0.12197113\n",
      " 0.12114174 0.12031842 0.11950117 0.11868992 0.11788466 0.11708537\n",
      " 0.11629202 0.11550459 0.11472303 0.11394732 0.11317741 0.11241333\n",
      " 0.111655   0.11090242 0.11015555 0.10941436 0.10867881 0.10794888\n",
      " 0.10722455 0.1065058  0.10579256 0.10508484 0.10438257 0.10368576\n",
      " 0.1029944  0.10230839 0.10162774 0.10095242 0.10028239 0.09961763\n",
      " 0.09895811 0.0983038  0.09765466 0.09701069 0.09637182 0.09573803\n",
      " 0.09510931 0.09448561 0.09386689 0.09325317]\n"
     ]
    },
    {
     "name": "stderr",
     "output_type": "stream",
     "text": [
      "/Users/mengkel/Library/Python/3.9/lib/python/site-packages/torch/nn/functional.py:1956: UserWarning: nn.functional.tanh is deprecated. Use torch.tanh instead.\n",
      "  warnings.warn(\"nn.functional.tanh is deprecated. Use torch.tanh instead.\")\n"
     ]
    }
   ],
   "source": [
    "Y_bar, Ep_Loss = train_model(model1, 0.001, 100)\n",
    "Loss = Ep_Loss[:,1]\n",
    "print(Loss)\n",
    "hessian_func = hessian(loss)\n",
    "num_param = sum(p.numel() for p in model1.parameters())"
   ]
  },
  {
   "cell_type": "code",
   "execution_count": 7,
   "metadata": {},
   "outputs": [
    {
     "ename": "TypeError",
     "evalue": "forward() missing 1 required positional argument: 'target'",
     "output_type": "error",
     "traceback": [
      "\u001b[0;31m---------------------------------------------------------------------------\u001b[0m",
      "\u001b[0;31mTypeError\u001b[0m                                 Traceback (most recent call last)",
      "\u001b[1;32m/Users/mengkel/Desktop/course-2022/8430/CPSC-8430-DP-HW/loss_vs_min_ratio.ipynb Cell 7\u001b[0m in \u001b[0;36m<module>\u001b[0;34m\u001b[0m\n\u001b[0;32m----> <a href='vscode-notebook-cell:/Users/mengkel/Desktop/course-2022/8430/CPSC-8430-DP-HW/loss_vs_min_ratio.ipynb#X10sZmlsZQ%3D%3D?line=0'>1</a>\u001b[0m H \u001b[39m=\u001b[39m hessian_func(\u001b[39mtuple\u001b[39;49m(model1\u001b[39m.\u001b[39;49mparameters()))\n\u001b[1;32m      <a href='vscode-notebook-cell:/Users/mengkel/Desktop/course-2022/8430/CPSC-8430-DP-HW/loss_vs_min_ratio.ipynb#X10sZmlsZQ%3D%3D?line=1'>2</a>\u001b[0m H \u001b[39m=\u001b[39m torch\u001b[39m.\u001b[39mcat([torch\u001b[39m.\u001b[39mcat([e\u001b[39m.\u001b[39mflatten() \u001b[39mfor\u001b[39;00m e \u001b[39min\u001b[39;00m Hpart]) \u001b[39mfor\u001b[39;00m Hpart \u001b[39min\u001b[39;00m H]) \u001b[39m# flatten\u001b[39;00m\n\u001b[1;32m      <a href='vscode-notebook-cell:/Users/mengkel/Desktop/course-2022/8430/CPSC-8430-DP-HW/loss_vs_min_ratio.ipynb#X10sZmlsZQ%3D%3D?line=2'>3</a>\u001b[0m H \u001b[39m=\u001b[39m H\u001b[39m.\u001b[39mreshape(num_param, num_param)\n",
      "File \u001b[0;32m~/Library/Python/3.9/lib/python/site-packages/functorch/_src/eager_transforms.py:996\u001b[0m, in \u001b[0;36mjacfwd.<locals>.wrapper_fn\u001b[0;34m(*args)\u001b[0m\n\u001b[1;32m    993\u001b[0m     _, jvp_out \u001b[39m=\u001b[39m output\n\u001b[1;32m    994\u001b[0m     \u001b[39mreturn\u001b[39;00m jvp_out\n\u001b[0;32m--> 996\u001b[0m results \u001b[39m=\u001b[39m vmap(push_jvp, randomness\u001b[39m=\u001b[39;49mrandomness)(basis)\n\u001b[1;32m    997\u001b[0m \u001b[39mif\u001b[39;00m has_aux:\n\u001b[1;32m    998\u001b[0m     results, aux \u001b[39m=\u001b[39m results\n",
      "File \u001b[0;32m~/Library/Python/3.9/lib/python/site-packages/functorch/_src/vmap.py:362\u001b[0m, in \u001b[0;36mvmap.<locals>.wrapped\u001b[0;34m(*args, **kwargs)\u001b[0m\n\u001b[1;32m    360\u001b[0m _check_out_dims_is_int_or_int_pytree(out_dims, func)\n\u001b[1;32m    361\u001b[0m batch_size, flat_in_dims, flat_args, args_spec \u001b[39m=\u001b[39m _process_batched_inputs(in_dims, args, func)\n\u001b[0;32m--> 362\u001b[0m \u001b[39mreturn\u001b[39;00m _flat_vmap(\n\u001b[1;32m    363\u001b[0m     func, batch_size, flat_in_dims, flat_args, args_spec, out_dims, randomness, \u001b[39m*\u001b[39;49m\u001b[39m*\u001b[39;49mkwargs\n\u001b[1;32m    364\u001b[0m )\n",
      "File \u001b[0;32m~/Library/Python/3.9/lib/python/site-packages/functorch/_src/vmap.py:35\u001b[0m, in \u001b[0;36mdoesnt_support_saved_tensors_hooks.<locals>.fn\u001b[0;34m(*args, **kwargs)\u001b[0m\n\u001b[1;32m     32\u001b[0m \u001b[39m@functools\u001b[39m\u001b[39m.\u001b[39mwraps(f)\n\u001b[1;32m     33\u001b[0m \u001b[39mdef\u001b[39;00m \u001b[39mfn\u001b[39m(\u001b[39m*\u001b[39margs, \u001b[39m*\u001b[39m\u001b[39m*\u001b[39mkwargs):\n\u001b[1;32m     34\u001b[0m     \u001b[39mwith\u001b[39;00m torch\u001b[39m.\u001b[39mautograd\u001b[39m.\u001b[39mgraph\u001b[39m.\u001b[39mdisable_saved_tensors_hooks(message):\n\u001b[0;32m---> 35\u001b[0m         \u001b[39mreturn\u001b[39;00m f(\u001b[39m*\u001b[39;49margs, \u001b[39m*\u001b[39;49m\u001b[39m*\u001b[39;49mkwargs)\n",
      "File \u001b[0;32m~/Library/Python/3.9/lib/python/site-packages/functorch/_src/vmap.py:489\u001b[0m, in \u001b[0;36m_flat_vmap\u001b[0;34m(func, batch_size, flat_in_dims, flat_args, args_spec, out_dims, randomness, **kwargs)\u001b[0m\n\u001b[1;32m    487\u001b[0m \u001b[39mtry\u001b[39;00m:\n\u001b[1;32m    488\u001b[0m     batched_inputs \u001b[39m=\u001b[39m _create_batched_inputs(flat_in_dims, flat_args, vmap_level, args_spec)\n\u001b[0;32m--> 489\u001b[0m     batched_outputs \u001b[39m=\u001b[39m func(\u001b[39m*\u001b[39;49mbatched_inputs, \u001b[39m*\u001b[39;49m\u001b[39m*\u001b[39;49mkwargs)\n\u001b[1;32m    490\u001b[0m     \u001b[39mreturn\u001b[39;00m _unwrap_batched(batched_outputs, out_dims, vmap_level, batch_size, func)\n\u001b[1;32m    491\u001b[0m \u001b[39mfinally\u001b[39;00m:\n",
      "File \u001b[0;32m~/Library/Python/3.9/lib/python/site-packages/functorch/_src/eager_transforms.py:989\u001b[0m, in \u001b[0;36mjacfwd.<locals>.wrapper_fn.<locals>.push_jvp\u001b[0;34m(basis)\u001b[0m\n\u001b[1;32m    988\u001b[0m \u001b[39mdef\u001b[39;00m \u001b[39mpush_jvp\u001b[39m(basis):\n\u001b[0;32m--> 989\u001b[0m     output \u001b[39m=\u001b[39m _jvp_with_argnums(func, args, basis, argnums\u001b[39m=\u001b[39;49margnums, has_aux\u001b[39m=\u001b[39;49mhas_aux)\n\u001b[1;32m    990\u001b[0m     \u001b[39mif\u001b[39;00m has_aux:\n\u001b[1;32m    991\u001b[0m         _, jvp_out, aux \u001b[39m=\u001b[39m output\n",
      "File \u001b[0;32m~/Library/Python/3.9/lib/python/site-packages/functorch/_src/vmap.py:35\u001b[0m, in \u001b[0;36mdoesnt_support_saved_tensors_hooks.<locals>.fn\u001b[0;34m(*args, **kwargs)\u001b[0m\n\u001b[1;32m     32\u001b[0m \u001b[39m@functools\u001b[39m\u001b[39m.\u001b[39mwraps(f)\n\u001b[1;32m     33\u001b[0m \u001b[39mdef\u001b[39;00m \u001b[39mfn\u001b[39m(\u001b[39m*\u001b[39margs, \u001b[39m*\u001b[39m\u001b[39m*\u001b[39mkwargs):\n\u001b[1;32m     34\u001b[0m     \u001b[39mwith\u001b[39;00m torch\u001b[39m.\u001b[39mautograd\u001b[39m.\u001b[39mgraph\u001b[39m.\u001b[39mdisable_saved_tensors_hooks(message):\n\u001b[0;32m---> 35\u001b[0m         \u001b[39mreturn\u001b[39;00m f(\u001b[39m*\u001b[39;49margs, \u001b[39m*\u001b[39;49m\u001b[39m*\u001b[39;49mkwargs)\n",
      "File \u001b[0;32m~/Library/Python/3.9/lib/python/site-packages/functorch/_src/eager_transforms.py:837\u001b[0m, in \u001b[0;36m_jvp_with_argnums\u001b[0;34m(func, primals, tangents, argnums, strict, has_aux)\u001b[0m\n\u001b[1;32m    835\u001b[0m     primals \u001b[39m=\u001b[39m _wrap_all_tensors(primals, level)\n\u001b[1;32m    836\u001b[0m     duals \u001b[39m=\u001b[39m _replace_args(primals, duals, argnums)\n\u001b[0;32m--> 837\u001b[0m result_duals \u001b[39m=\u001b[39m func(\u001b[39m*\u001b[39;49mduals)\n\u001b[1;32m    838\u001b[0m \u001b[39mif\u001b[39;00m has_aux:\n\u001b[1;32m    839\u001b[0m     \u001b[39mif\u001b[39;00m \u001b[39mnot\u001b[39;00m (\u001b[39misinstance\u001b[39m(result_duals, \u001b[39mtuple\u001b[39m) \u001b[39mand\u001b[39;00m \u001b[39mlen\u001b[39m(result_duals) \u001b[39m==\u001b[39m \u001b[39m2\u001b[39m):\n",
      "File \u001b[0;32m~/Library/Python/3.9/lib/python/site-packages/functorch/_src/eager_transforms.py:459\u001b[0m, in \u001b[0;36mjacrev.<locals>.wrapper_fn\u001b[0;34m(*args)\u001b[0m\n\u001b[1;32m    457\u001b[0m \u001b[39m@wraps\u001b[39m(func)\n\u001b[1;32m    458\u001b[0m \u001b[39mdef\u001b[39;00m \u001b[39mwrapper_fn\u001b[39m(\u001b[39m*\u001b[39margs):\n\u001b[0;32m--> 459\u001b[0m     vjp_out \u001b[39m=\u001b[39m _vjp_with_argnums(func, \u001b[39m*\u001b[39;49margs, argnums\u001b[39m=\u001b[39;49margnums, has_aux\u001b[39m=\u001b[39;49mhas_aux)\n\u001b[1;32m    460\u001b[0m     \u001b[39mif\u001b[39;00m has_aux:\n\u001b[1;32m    461\u001b[0m         output, vjp_fn, aux \u001b[39m=\u001b[39m vjp_out\n",
      "File \u001b[0;32m~/Library/Python/3.9/lib/python/site-packages/functorch/_src/vmap.py:35\u001b[0m, in \u001b[0;36mdoesnt_support_saved_tensors_hooks.<locals>.fn\u001b[0;34m(*args, **kwargs)\u001b[0m\n\u001b[1;32m     32\u001b[0m \u001b[39m@functools\u001b[39m\u001b[39m.\u001b[39mwraps(f)\n\u001b[1;32m     33\u001b[0m \u001b[39mdef\u001b[39;00m \u001b[39mfn\u001b[39m(\u001b[39m*\u001b[39margs, \u001b[39m*\u001b[39m\u001b[39m*\u001b[39mkwargs):\n\u001b[1;32m     34\u001b[0m     \u001b[39mwith\u001b[39;00m torch\u001b[39m.\u001b[39mautograd\u001b[39m.\u001b[39mgraph\u001b[39m.\u001b[39mdisable_saved_tensors_hooks(message):\n\u001b[0;32m---> 35\u001b[0m         \u001b[39mreturn\u001b[39;00m f(\u001b[39m*\u001b[39;49margs, \u001b[39m*\u001b[39;49m\u001b[39m*\u001b[39;49mkwargs)\n",
      "File \u001b[0;32m~/Library/Python/3.9/lib/python/site-packages/functorch/_src/eager_transforms.py:289\u001b[0m, in \u001b[0;36m_vjp_with_argnums\u001b[0;34m(func, argnums, has_aux, *primals)\u001b[0m\n\u001b[1;32m    287\u001b[0m     diff_primals \u001b[39m=\u001b[39m _slice_argnums(primals, argnums, as_tuple\u001b[39m=\u001b[39m\u001b[39mFalse\u001b[39;00m)\n\u001b[1;32m    288\u001b[0m     tree_map_(partial(_create_differentiable, level\u001b[39m=\u001b[39mlevel), diff_primals)\n\u001b[0;32m--> 289\u001b[0m primals_out \u001b[39m=\u001b[39m func(\u001b[39m*\u001b[39;49mprimals)\n\u001b[1;32m    291\u001b[0m \u001b[39mif\u001b[39;00m has_aux:\n\u001b[1;32m    292\u001b[0m     \u001b[39mif\u001b[39;00m \u001b[39mnot\u001b[39;00m (\u001b[39misinstance\u001b[39m(primals_out, \u001b[39mtuple\u001b[39m) \u001b[39mand\u001b[39;00m \u001b[39mlen\u001b[39m(primals_out) \u001b[39m==\u001b[39m \u001b[39m2\u001b[39m):\n",
      "File \u001b[0;32m~/Library/Python/3.9/lib/python/site-packages/torch/nn/modules/module.py:1194\u001b[0m, in \u001b[0;36mModule._call_impl\u001b[0;34m(self, *input, **kwargs)\u001b[0m\n\u001b[1;32m   1190\u001b[0m \u001b[39m# If we don't have any hooks, we want to skip the rest of the logic in\u001b[39;00m\n\u001b[1;32m   1191\u001b[0m \u001b[39m# this function, and just call forward.\u001b[39;00m\n\u001b[1;32m   1192\u001b[0m \u001b[39mif\u001b[39;00m \u001b[39mnot\u001b[39;00m (\u001b[39mself\u001b[39m\u001b[39m.\u001b[39m_backward_hooks \u001b[39mor\u001b[39;00m \u001b[39mself\u001b[39m\u001b[39m.\u001b[39m_forward_hooks \u001b[39mor\u001b[39;00m \u001b[39mself\u001b[39m\u001b[39m.\u001b[39m_forward_pre_hooks \u001b[39mor\u001b[39;00m _global_backward_hooks\n\u001b[1;32m   1193\u001b[0m         \u001b[39mor\u001b[39;00m _global_forward_hooks \u001b[39mor\u001b[39;00m _global_forward_pre_hooks):\n\u001b[0;32m-> 1194\u001b[0m     \u001b[39mreturn\u001b[39;00m forward_call(\u001b[39m*\u001b[39;49m\u001b[39minput\u001b[39;49m, \u001b[39m*\u001b[39;49m\u001b[39m*\u001b[39;49mkwargs)\n\u001b[1;32m   1195\u001b[0m \u001b[39m# Do not call functions when jit is used\u001b[39;00m\n\u001b[1;32m   1196\u001b[0m full_backward_hooks, non_full_backward_hooks \u001b[39m=\u001b[39m [], []\n",
      "\u001b[0;31mTypeError\u001b[0m: forward() missing 1 required positional argument: 'target'"
     ]
    }
   ],
   "source": []
  }
 ],
 "metadata": {
  "kernelspec": {
   "display_name": "Python 3",
   "language": "python",
   "name": "python3"
  },
  "language_info": {
   "codemirror_mode": {
    "name": "ipython",
    "version": 3
   },
   "file_extension": ".py",
   "mimetype": "text/x-python",
   "name": "python",
   "nbconvert_exporter": "python",
   "pygments_lexer": "ipython3",
   "version": "3.9.16"
  },
  "orig_nbformat": 4,
  "vscode": {
   "interpreter": {
    "hash": "7a792fcb311f9eb9f3c1b942a8c87ada8484712b89b670347c16a1088e0a1f69"
   }
  }
 },
 "nbformat": 4,
 "nbformat_minor": 2
}
